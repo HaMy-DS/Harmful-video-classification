{
  "cells": [
    {
      "cell_type": "markdown",
      "metadata": {
        "id": "Jb0FyRfmCBiL"
      },
      "source": [
        "#Import Lib"
      ]
    },
    {
      "cell_type": "code",
      "execution_count": null,
      "metadata": {
        "colab": {
          "base_uri": "https://localhost:8080/"
        },
        "id": "7HqGJzTTCQWs",
        "outputId": "8fe94eaa-b055-47af-c869-2a1d60ddf0ac"
      },
      "outputs": [
        {
          "output_type": "stream",
          "name": "stdout",
          "text": [
            "Requirement already satisfied: tensorflow>=2.10.0 in /usr/local/lib/python3.10/dist-packages (2.15.0)\n",
            "Collecting tensorflow>=2.10.0\n",
            "  Downloading tensorflow-2.16.1-cp310-cp310-manylinux_2_17_x86_64.manylinux2014_x86_64.whl (589.8 MB)\n",
            "\u001b[2K     \u001b[90m━━━━━━━━━━━━━━━━━━━━━━━━━━━━━━━━━━━━━━━━\u001b[0m \u001b[32m589.8/589.8 MB\u001b[0m \u001b[31m2.7 MB/s\u001b[0m eta \u001b[36m0:00:00\u001b[0m\n",
            "\u001b[?25hRequirement already satisfied: absl-py>=1.0.0 in /usr/local/lib/python3.10/dist-packages (from tensorflow>=2.10.0) (1.4.0)\n",
            "Requirement already satisfied: astunparse>=1.6.0 in /usr/local/lib/python3.10/dist-packages (from tensorflow>=2.10.0) (1.6.3)\n",
            "Requirement already satisfied: flatbuffers>=23.5.26 in /usr/local/lib/python3.10/dist-packages (from tensorflow>=2.10.0) (24.3.25)\n",
            "Requirement already satisfied: gast!=0.5.0,!=0.5.1,!=0.5.2,>=0.2.1 in /usr/local/lib/python3.10/dist-packages (from tensorflow>=2.10.0) (0.5.4)\n",
            "Requirement already satisfied: google-pasta>=0.1.1 in /usr/local/lib/python3.10/dist-packages (from tensorflow>=2.10.0) (0.2.0)\n",
            "Collecting h5py>=3.10.0 (from tensorflow>=2.10.0)\n",
            "  Downloading h5py-3.11.0-cp310-cp310-manylinux_2_17_x86_64.manylinux2014_x86_64.whl (5.3 MB)\n",
            "\u001b[2K     \u001b[90m━━━━━━━━━━━━━━━━━━━━━━━━━━━━━━━━━━━━━━━━\u001b[0m \u001b[32m5.3/5.3 MB\u001b[0m \u001b[31m75.2 MB/s\u001b[0m eta \u001b[36m0:00:00\u001b[0m\n",
            "\u001b[?25hRequirement already satisfied: libclang>=13.0.0 in /usr/local/lib/python3.10/dist-packages (from tensorflow>=2.10.0) (18.1.1)\n",
            "Collecting ml-dtypes~=0.3.1 (from tensorflow>=2.10.0)\n",
            "  Downloading ml_dtypes-0.3.2-cp310-cp310-manylinux_2_17_x86_64.manylinux2014_x86_64.whl (2.2 MB)\n",
            "\u001b[2K     \u001b[90m━━━━━━━━━━━━━━━━━━━━━━━━━━━━━━━━━━━━━━━━\u001b[0m \u001b[32m2.2/2.2 MB\u001b[0m \u001b[31m82.9 MB/s\u001b[0m eta \u001b[36m0:00:00\u001b[0m\n",
            "\u001b[?25hRequirement already satisfied: opt-einsum>=2.3.2 in /usr/local/lib/python3.10/dist-packages (from tensorflow>=2.10.0) (3.3.0)\n",
            "Requirement already satisfied: packaging in /usr/local/lib/python3.10/dist-packages (from tensorflow>=2.10.0) (24.0)\n",
            "Requirement already satisfied: protobuf!=4.21.0,!=4.21.1,!=4.21.2,!=4.21.3,!=4.21.4,!=4.21.5,<5.0.0dev,>=3.20.3 in /usr/local/lib/python3.10/dist-packages (from tensorflow>=2.10.0) (3.20.3)\n",
            "Requirement already satisfied: requests<3,>=2.21.0 in /usr/local/lib/python3.10/dist-packages (from tensorflow>=2.10.0) (2.31.0)\n",
            "Requirement already satisfied: setuptools in /usr/local/lib/python3.10/dist-packages (from tensorflow>=2.10.0) (67.7.2)\n",
            "Requirement already satisfied: six>=1.12.0 in /usr/local/lib/python3.10/dist-packages (from tensorflow>=2.10.0) (1.16.0)\n",
            "Requirement already satisfied: termcolor>=1.1.0 in /usr/local/lib/python3.10/dist-packages (from tensorflow>=2.10.0) (2.4.0)\n",
            "Requirement already satisfied: typing-extensions>=3.6.6 in /usr/local/lib/python3.10/dist-packages (from tensorflow>=2.10.0) (4.11.0)\n",
            "Requirement already satisfied: wrapt>=1.11.0 in /usr/local/lib/python3.10/dist-packages (from tensorflow>=2.10.0) (1.14.1)\n",
            "Requirement already satisfied: grpcio<2.0,>=1.24.3 in /usr/local/lib/python3.10/dist-packages (from tensorflow>=2.10.0) (1.62.2)\n",
            "Collecting tensorboard<2.17,>=2.16 (from tensorflow>=2.10.0)\n",
            "  Downloading tensorboard-2.16.2-py3-none-any.whl (5.5 MB)\n",
            "\u001b[2K     \u001b[90m━━━━━━━━━━━━━━━━━━━━━━━━━━━━━━━━━━━━━━━━\u001b[0m \u001b[32m5.5/5.5 MB\u001b[0m \u001b[31m90.3 MB/s\u001b[0m eta \u001b[36m0:00:00\u001b[0m\n",
            "\u001b[?25hCollecting keras>=3.0.0 (from tensorflow>=2.10.0)\n",
            "  Downloading keras-3.3.2-py3-none-any.whl (1.1 MB)\n",
            "\u001b[2K     \u001b[90m━━━━━━━━━━━━━━━━━━━━━━━━━━━━━━━━━━━━━━━━\u001b[0m \u001b[32m1.1/1.1 MB\u001b[0m \u001b[31m57.8 MB/s\u001b[0m eta \u001b[36m0:00:00\u001b[0m\n",
            "\u001b[?25hRequirement already satisfied: tensorflow-io-gcs-filesystem>=0.23.1 in /usr/local/lib/python3.10/dist-packages (from tensorflow>=2.10.0) (0.36.0)\n",
            "Requirement already satisfied: numpy<2.0.0,>=1.23.5 in /usr/local/lib/python3.10/dist-packages (from tensorflow>=2.10.0) (1.25.2)\n",
            "Requirement already satisfied: wheel<1.0,>=0.23.0 in /usr/local/lib/python3.10/dist-packages (from astunparse>=1.6.0->tensorflow>=2.10.0) (0.43.0)\n",
            "Requirement already satisfied: rich in /usr/local/lib/python3.10/dist-packages (from keras>=3.0.0->tensorflow>=2.10.0) (13.7.1)\n",
            "Collecting namex (from keras>=3.0.0->tensorflow>=2.10.0)\n",
            "  Downloading namex-0.0.8-py3-none-any.whl (5.8 kB)\n",
            "Collecting optree (from keras>=3.0.0->tensorflow>=2.10.0)\n",
            "  Downloading optree-0.11.0-cp310-cp310-manylinux_2_17_x86_64.manylinux2014_x86_64.whl (311 kB)\n",
            "\u001b[2K     \u001b[90m━━━━━━━━━━━━━━━━━━━━━━━━━━━━━━━━━━━━━━━━\u001b[0m \u001b[32m311.2/311.2 kB\u001b[0m \u001b[31m34.5 MB/s\u001b[0m eta \u001b[36m0:00:00\u001b[0m\n",
            "\u001b[?25hRequirement already satisfied: charset-normalizer<4,>=2 in /usr/local/lib/python3.10/dist-packages (from requests<3,>=2.21.0->tensorflow>=2.10.0) (3.3.2)\n",
            "Requirement already satisfied: idna<4,>=2.5 in /usr/local/lib/python3.10/dist-packages (from requests<3,>=2.21.0->tensorflow>=2.10.0) (3.7)\n",
            "Requirement already satisfied: urllib3<3,>=1.21.1 in /usr/local/lib/python3.10/dist-packages (from requests<3,>=2.21.0->tensorflow>=2.10.0) (2.0.7)\n",
            "Requirement already satisfied: certifi>=2017.4.17 in /usr/local/lib/python3.10/dist-packages (from requests<3,>=2.21.0->tensorflow>=2.10.0) (2024.2.2)\n",
            "Requirement already satisfied: markdown>=2.6.8 in /usr/local/lib/python3.10/dist-packages (from tensorboard<2.17,>=2.16->tensorflow>=2.10.0) (3.6)\n",
            "Requirement already satisfied: tensorboard-data-server<0.8.0,>=0.7.0 in /usr/local/lib/python3.10/dist-packages (from tensorboard<2.17,>=2.16->tensorflow>=2.10.0) (0.7.2)\n",
            "Requirement already satisfied: werkzeug>=1.0.1 in /usr/local/lib/python3.10/dist-packages (from tensorboard<2.17,>=2.16->tensorflow>=2.10.0) (3.0.2)\n",
            "Requirement already satisfied: MarkupSafe>=2.1.1 in /usr/local/lib/python3.10/dist-packages (from werkzeug>=1.0.1->tensorboard<2.17,>=2.16->tensorflow>=2.10.0) (2.1.5)\n",
            "Requirement already satisfied: markdown-it-py>=2.2.0 in /usr/local/lib/python3.10/dist-packages (from rich->keras>=3.0.0->tensorflow>=2.10.0) (3.0.0)\n",
            "Requirement already satisfied: pygments<3.0.0,>=2.13.0 in /usr/local/lib/python3.10/dist-packages (from rich->keras>=3.0.0->tensorflow>=2.10.0) (2.16.1)\n",
            "Requirement already satisfied: mdurl~=0.1 in /usr/local/lib/python3.10/dist-packages (from markdown-it-py>=2.2.0->rich->keras>=3.0.0->tensorflow>=2.10.0) (0.1.2)\n",
            "Installing collected packages: namex, optree, ml-dtypes, h5py, tensorboard, keras, tensorflow\n",
            "  Attempting uninstall: ml-dtypes\n",
            "    Found existing installation: ml-dtypes 0.2.0\n",
            "    Uninstalling ml-dtypes-0.2.0:\n",
            "      Successfully uninstalled ml-dtypes-0.2.0\n",
            "  Attempting uninstall: h5py\n",
            "    Found existing installation: h5py 3.9.0\n",
            "    Uninstalling h5py-3.9.0:\n",
            "      Successfully uninstalled h5py-3.9.0\n",
            "  Attempting uninstall: tensorboard\n",
            "    Found existing installation: tensorboard 2.15.2\n",
            "    Uninstalling tensorboard-2.15.2:\n",
            "      Successfully uninstalled tensorboard-2.15.2\n",
            "  Attempting uninstall: keras\n",
            "    Found existing installation: keras 2.15.0\n",
            "    Uninstalling keras-2.15.0:\n",
            "      Successfully uninstalled keras-2.15.0\n",
            "  Attempting uninstall: tensorflow\n",
            "    Found existing installation: tensorflow 2.15.0\n",
            "    Uninstalling tensorflow-2.15.0:\n"
          ]
        }
      ],
      "source": [
        "!pip install -U \"tensorflow>=2.10.0\""
      ]
    },
    {
      "cell_type": "code",
      "execution_count": null,
      "metadata": {
        "id": "xTtyTnqdVNcd"
      },
      "outputs": [],
      "source": [
        "!pip install remotezip tqdm opencv-python==4.9.0.80 opencv-python-headless==4.9.0.80 tf-models-official"
      ]
    },
    {
      "cell_type": "code",
      "execution_count": null,
      "metadata": {
        "id": "6VSG-ygZ-kFO"
      },
      "outputs": [],
      "source": [
        "!pip install tensorflow_hub"
      ]
    },
    {
      "cell_type": "code",
      "execution_count": null,
      "metadata": {
        "id": "bfeXQW-t0_jF"
      },
      "outputs": [],
      "source": [
        "!pip install remotezip tqdm opencv-python==4.9.0.80 opencv-python-headless==4.9.0.80 tf-models-official"
      ]
    },
    {
      "cell_type": "code",
      "execution_count": null,
      "metadata": {
        "id": "5pR3KlLF_-u5"
      },
      "outputs": [],
      "source": [
        "!pip install remotezip tqdm opencv-python\n",
        "!pip install -q git+https://github.com/tensorflow/docs"
      ]
    },
    {
      "cell_type": "code",
      "execution_count": null,
      "metadata": {
        "id": "wT3DE3THaFtB"
      },
      "outputs": [],
      "source": [
        "!pip install remotezip tqdm opencv-python einops\n"
      ]
    },
    {
      "cell_type": "code",
      "execution_count": null,
      "metadata": {
        "id": "bLOMv3W0ACg8"
      },
      "outputs": [],
      "source": [
        "import tqdm\n",
        "import random\n",
        "import pathlib\n",
        "import itertools\n",
        "import collections\n",
        "import keras\n",
        "import os\n",
        "import cv2\n",
        "import numpy as np\n",
        "import tensorflow\n",
        "import remotezip as rz\n",
        "\n",
        "import tensorflow as tf\n",
        "import keras\n",
        "from keras import layers\n",
        "import tensorflow as tf\n",
        "import einops\n",
        "import matplotlib.pyplot as plt\n",
        "import seaborn as sns\n",
        "# Some modules to display an animation using imageio.\n",
        "import imageio\n",
        "from IPython import display\n",
        "from urllib import request\n",
        "from tensorflow_docs.vis import embed"
      ]
    },
    {
      "cell_type": "code",
      "source": [
        "!git clone -b feat_kerasv3 https://github.com/innat/VideoSwin.git\n",
        "%cd VideoSwin\n",
        "!pip install -e .\n"
      ],
      "metadata": {
        "id": "YMv377Ccgt0h"
      },
      "execution_count": null,
      "outputs": []
    },
    {
      "cell_type": "code",
      "source": [
        "import os\n",
        "os.environ[\"KERAS_BACKEND\"] = \"tensorflow\"\n",
        "\n",
        "import keras\n",
        "from keras import ops\n",
        "from keras import layers\n",
        "from videoswin import VideoSwinT\n",
        "keras.backend.backend()"
      ],
      "metadata": {
        "id": "7QZbAE34g9xI"
      },
      "execution_count": null,
      "outputs": []
    },
    {
      "cell_type": "code",
      "source": [
        "def vswin_tiny():\n",
        "    !wget https://github.com/innat/VideoSwin/releases/download/v2.0/videoswin_tiny_kinetics400_classifier.weights.h5 -q\n",
        "\n",
        "    model = VideoSwinT(\n",
        "        num_classes=400,\n",
        "        include_rescaling=False,\n",
        "        activation=None\n",
        "    )\n",
        "    model.load_weights(\n",
        "        'videoswin_tiny_kinetics400_classifier.weights.h5'\n",
        "    )\n",
        "    model.trainable=False\n",
        "    return model\n",
        "\n",
        "from videoswin.backbone import VideoSwinBackbone\n",
        "\n",
        "\n",
        "video_swin = VideoSwinT(\n",
        "    input_shape=(8, 224, 224, 3),\n",
        "    include_rescaling=False,\n",
        "    num_classes=5,\n",
        "    activation=\"softmax\",\n",
        "\n",
        ")\n",
        "\n",
        "video_swin.load_weights('videoswin_tiny_kinetics400_classifier.weights.h5', skip_mismatch=True)\n"
      ],
      "metadata": {
        "id": "28gr9SudhJhJ"
      },
      "execution_count": null,
      "outputs": []
    },
    {
      "cell_type": "code",
      "source": [
        "video_swin.summary()"
      ],
      "metadata": {
        "id": "5P_YKSDDl-Rz"
      },
      "execution_count": null,
      "outputs": []
    },
    {
      "cell_type": "code",
      "execution_count": null,
      "metadata": {
        "id": "zuVdwHq7A4iU"
      },
      "outputs": [],
      "source": [
        "# #@title\n",
        "\n",
        "# def list_files_per_class(zip_url):\n",
        "#   \"\"\"\n",
        "#     List the files in each class of the dataset given the zip URL.\n",
        "\n",
        "#     Args:\n",
        "#       zip_url: URL from which the files can be unzipped.\n",
        "\n",
        "#     Return:\n",
        "#       files: List of files in each of the classes.\n",
        "#   \"\"\"\n",
        "#   files = []\n",
        "#   with rz.RemoteZip(URL) as zip:\n",
        "#     for zip_info in zip.infolist():\n",
        "#       files.append(zip_info.filename)\n",
        "#   return files\n",
        "\n",
        "# def get_class(fname):\n",
        "#   \"\"\"\n",
        "#     Retrieve the name of the class given a filename.\n",
        "\n",
        "#     Args:\n",
        "#       fname: Name of the file in the UCF101 dataset.\n",
        "\n",
        "#     Return:\n",
        "#       Class that the file belongs to.\n",
        "#   \"\"\"\n",
        "#   return fname.split('_')[-3]\n",
        "\n",
        "# def get_files_per_class(files):\n",
        "#   \"\"\"\n",
        "#     Retrieve the files that belong to each class.\n",
        "\n",
        "#     Args:\n",
        "#       files: List of files in the dataset.\n",
        "\n",
        "#     Return:\n",
        "#       Dictionary of class names (key) and files (values).\n",
        "#   \"\"\"\n",
        "#   files_for_class = collections.defaultdict(list)\n",
        "#   for fname in files:\n",
        "#     class_name = get_class(fname)\n",
        "#     files_for_class[class_name].append(fname)\n",
        "#   return files_for_class\n",
        "\n",
        "# def download_from_zip(zip_url, to_dir, file_names):\n",
        "#   \"\"\"\n",
        "#     Download the contents of the zip file from the zip URL.\n",
        "\n",
        "#     Args:\n",
        "#       zip_url: Zip URL containing data.\n",
        "#       to_dir: Directory to download data to.\n",
        "#       file_names: Names of files to download.\n",
        "#   \"\"\"\n",
        "#   with rz.RemoteZip(zip_url) as zip:\n",
        "#     for fn in tqdm.tqdm(file_names):\n",
        "#       class_name = get_class(fn)\n",
        "#       zip.extract(fn, str(to_dir / class_name))\n",
        "#       unzipped_file = to_dir / class_name / fn\n",
        "\n",
        "#       fn = pathlib.Path(fn).parts[-1]\n",
        "#       output_file = to_dir / class_name / fn\n",
        "#       unzipped_file.rename(output_file,)\n",
        "\n",
        "# def split_class_lists(files_for_class, count):\n",
        "#   \"\"\"\n",
        "#     Returns the list of files belonging to a subset of data as well as the remainder of\n",
        "#     files that need to be downloaded.\n",
        "\n",
        "#     Args:\n",
        "#       files_for_class: Files belonging to a particular class of data.\n",
        "#       count: Number of files to download.\n",
        "\n",
        "#     Return:\n",
        "#       split_files: Files belonging to the subset of data.\n",
        "#       remainder: Dictionary of the remainder of files that need to be downloaded.\n",
        "#   \"\"\"\n",
        "#   split_files = []\n",
        "#   remainder = {}\n",
        "#   for cls in files_for_class:\n",
        "#     split_files.extend(files_for_class[cls][:count])\n",
        "#     remainder[cls] = files_for_class[cls][count:]\n",
        "#   return split_files, remainder\n",
        "\n",
        "# def download_ufc_101_subset(zip_url, num_classes, splits, download_dir):\n",
        "#   \"\"\"\n",
        "#     Download a subset of the UFC101 dataset and split them into various parts, such as\n",
        "#     training, validation, and test.\n",
        "\n",
        "#     Args:\n",
        "#       zip_url: Zip URL containing data.\n",
        "#       num_classes: Number of labels.\n",
        "#       splits: Dictionary specifying the training, validation, test, etc. (key) division of data\n",
        "#               (value is number of files per split).\n",
        "#       download_dir: Directory to download data to.\n",
        "\n",
        "#     Return:\n",
        "#       dir: Posix path of the resulting directories containing the splits of data.\n",
        "#   \"\"\"\n",
        "#   files = list_files_per_class(zip_url)\n",
        "#   for f in files:\n",
        "#     tokens = f.split('/')\n",
        "#     if len(tokens) <= 2:\n",
        "#       files.remove(f) # Remove that item from the list if it does not have a filename\n",
        "\n",
        "#   files_for_class = get_files_per_class(files)\n",
        "\n",
        "#   classes = list(files_for_class.keys())[:num_classes]\n",
        "\n",
        "#   for cls in classes:\n",
        "#     new_files_for_class = files_for_class[cls]\n",
        "#     random.shuffle(new_files_for_class)\n",
        "#     files_for_class[cls] = new_files_for_class\n",
        "\n",
        "#   # Only use the number of classes you want in the dictionary\n",
        "#   files_for_class = {x: files_for_class[x] for x in list(files_for_class)[:num_classes]}\n",
        "\n",
        "#   dirs = {}\n",
        "#   for split_name, split_count in splits.items():\n",
        "#     print(split_name, \":\")\n",
        "#     split_dir = download_dir / split_name\n",
        "#     split_files, files_for_class = split_class_lists(files_for_class, split_count)\n",
        "#     download_from_zip(zip_url, split_dir, split_files)\n",
        "#     dirs[split_name] = split_dir\n",
        "\n",
        "#   return dirs\n",
        "\n",
        "def format_frames(frame, output_size):\n",
        "  \"\"\"\n",
        "    Pad and resize an image from a video.\n",
        "\n",
        "    Args:\n",
        "      frame: Image that needs to resized and padded.\n",
        "      output_size: Pixel size of the output frame image.\n",
        "\n",
        "    Return:\n",
        "      Formatted frame with padding of specified output size.\n",
        "  \"\"\"\n",
        "  frame = tf.image.convert_image_dtype(frame, tf.float32)\n",
        "  frame = tf.image.resize_with_pad(frame, *output_size)\n",
        "  return frame\n",
        "\n",
        "def frames_from_video_file(video_path, n_frames, output_size = (224,224), frame_step = 15):\n",
        "  \"\"\"\n",
        "    Creates frames from each video file present for each category.\n",
        "\n",
        "    Args:\n",
        "      video_path: File path to the video.\n",
        "      n_frames: Number of frames to be created per video file.\n",
        "      output_size: Pixel size of the output frame image.\n",
        "\n",
        "    Return:\n",
        "      An NumPy array of frames in the shape of (n_frames, height, width, channels).\n",
        "  \"\"\"\n",
        "  # Read each video frame by frame\n",
        "  result = []\n",
        "  src = cv2.VideoCapture(str(video_path))\n",
        "\n",
        "  video_length = src.get(cv2.CAP_PROP_FRAME_COUNT)\n",
        "\n",
        "  need_length = 1 + (n_frames - 1) * frame_step\n",
        "\n",
        "  if need_length > video_length:\n",
        "    start = 0\n",
        "  else:\n",
        "    max_start = video_length - need_length\n",
        "    start = random.randint(0, max_start + 1)\n",
        "\n",
        "  src.set(cv2.CAP_PROP_POS_FRAMES, start)\n",
        "  # ret is a boolean indicating whether read was successful, frame is the image itself\n",
        "  ret, frame = src.read()\n",
        "  result.append(format_frames(frame, output_size))\n",
        "\n",
        "  for _ in range(n_frames - 1):\n",
        "    for _ in range(frame_step):\n",
        "      ret, frame = src.read()\n",
        "    if ret:\n",
        "      frame = format_frames(frame, output_size)\n",
        "      result.append(frame)\n",
        "    else:\n",
        "      result.append(np.zeros_like(result[0]))\n",
        "  src.release()\n",
        "  result = np.array(result)[..., [2, 1, 0]]\n",
        "\n",
        "  return result\n",
        "\n",
        "class FrameGenerator:\n",
        "  def __init__(self, path, n_frames, training = False):\n",
        "    \"\"\" Returns a set of frames with their associated label.\n",
        "\n",
        "      Args:\n",
        "        path: Video file paths.\n",
        "        n_frames: Number of frames.\n",
        "        training: Boolean to determine if training dataset is being created.\n",
        "    \"\"\"\n",
        "    self.path = path\n",
        "    self.n_frames = n_frames\n",
        "    self.training = training\n",
        "    self.class_names = sorted(set(p.name for p in self.path.iterdir() if p.is_dir()))\n",
        "    self.class_ids_for_name = dict((name, idx) for idx, name in enumerate(self.class_names))\n",
        "\n",
        "  def get_files_and_class_names(self):\n",
        "    video_paths = list(self.path.glob('*/*.mp4'))\n",
        "    classes = [p.parent.name for p in video_paths]\n",
        "    return video_paths, classes\n",
        "\n",
        "  def __call__(self):\n",
        "    video_paths, classes = self.get_files_and_class_names()\n",
        "\n",
        "    pairs = list(zip(video_paths, classes))\n",
        "\n",
        "    if self.training:\n",
        "      random.shuffle(pairs)\n",
        "\n",
        "    for path, name in pairs:\n",
        "      video_frames = frames_from_video_file(path, self.n_frames)\n",
        "      label = self.class_ids_for_name[name] # Encode labels\n",
        "      yield video_frames, label"
      ]
    },
    {
      "cell_type": "code",
      "execution_count": null,
      "metadata": {
        "id": "oavIGyQcL3Ob"
      },
      "outputs": [],
      "source": [
        "from google.colab import drive\n",
        "drive.mount('/content/drive')"
      ]
    },
    {
      "cell_type": "code",
      "execution_count": null,
      "metadata": {
        "id": "6tFrj-HDYoFA"
      },
      "outputs": [],
      "source": [
        "n_frames = 8\n",
        "batch_size = 8\n",
        "\n",
        "output_signature = (tf.TensorSpec(shape = (None, None, None, 3), dtype = tf.float32),\n",
        "                    tf.TensorSpec(shape = (), dtype = tf.int16))\n",
        "\n",
        "train_ds = tf.data.Dataset.from_generator(FrameGenerator(pathlib.Path(\"/content/drive/MyDrive/KLTN2023/DataKLTN2023/data_video/train\"), n_frames, training=True),\n",
        "                                          output_signature = output_signature)\n",
        "\n",
        "\n",
        "#Batch the data\n",
        "train_ds = train_ds.batch(batch_size)\n",
        "\n",
        "val_ds = tf.data.Dataset.from_generator(FrameGenerator(pathlib.Path(\"/content/drive/MyDrive/KLTN2023/DataKLTN2023/data_video/val\"), n_frames),\n",
        "                                         output_signature = output_signature)\n",
        "val_ds = val_ds.batch(batch_size)\n",
        "\n",
        "test_ds = tf.data.Dataset.from_generator(FrameGenerator(pathlib.Path(\"/content/drive/MyDrive/KLTN2023/DataKLTN2023/data_video/test_final\"), n_frames),\n",
        "                                          output_signature = output_signature)\n",
        "\n",
        "test_ds = test_ds.batch(batch_size)"
      ]
    },
    {
      "cell_type": "markdown",
      "metadata": {
        "id": "M5fP2_H1d5Sp"
      },
      "source": [
        "# Model"
      ]
    },
    {
      "cell_type": "code",
      "execution_count": null,
      "metadata": {
        "id": "ijMtni58eE9Y"
      },
      "outputs": [],
      "source": [
        "# first_half, state = gru(inputs[:, :5, :])   # run the first half, and capture the state\n",
        "# second_half, _ = gru(inputs[:,5:,:], initial_state=state)  # Use the state to continue where you left off.\n",
        "\n",
        "# print(np.allclose(result[:, :5,:], first_half))\n",
        "# print(np.allclose(result[:, 5:,:], second_half))"
      ]
    },
    {
      "cell_type": "code",
      "execution_count": null,
      "metadata": {
        "id": "20q1CL2WeQ-g"
      },
      "outputs": [],
      "source": [
        "num_epochs = 5\n",
        "\n",
        "optimizer = tensorflow.keras.optimizers.Adamax(\n",
        "    learning_rate=0.0001)\n",
        "from keras import optimizers\n",
        "video_swin.compile(loss = tensorflow.keras.losses.SparseCategoricalCrossentropy(from_logits=False),\n",
        "              # optimizer = optimizer,\n",
        "              metrics = ['accuracy'])"
      ]
    },
    {
      "cell_type": "code",
      "execution_count": null,
      "metadata": {
        "id": "Sf2BZr6peSlV"
      },
      "outputs": [],
      "source": [
        "results = video_swin.fit(train_ds,\n",
        "                    validation_data=test_ds,\n",
        "                    epochs=5,\n",
        "                    validation_freq=1,\n",
        "                    verbose=1)"
      ]
    },
    {
      "cell_type": "code",
      "execution_count": null,
      "metadata": {
        "id": "rszdmieJa8ZU"
      },
      "outputs": [],
      "source": [
        "def plot_history(history):\n",
        "  \"\"\"\n",
        "    Plotting training and validation learning curves.\n",
        "\n",
        "    Args:\n",
        "      history: model history with all the metric measures\n",
        "  \"\"\"\n",
        "  fig, (ax1, ax2) = plt.subplots(2)\n",
        "\n",
        "  fig.set_size_inches(18.5, 10.5)\n",
        "\n",
        "  # Plot loss\n",
        "  ax1.set_title('Loss')\n",
        "  ax1.plot(history.history['loss'], label = 'train')\n",
        "  ax1.plot(history.history['val_loss'], label = 'test')\n",
        "  ax1.set_ylabel('Loss')\n",
        "\n",
        "  # Determine upper bound of y-axis\n",
        "  max_loss = max(history.history['loss'] + history.history['val_loss'])\n",
        "\n",
        "  ax1.set_ylim([0, np.ceil(max_loss)])\n",
        "  ax1.set_xlabel('Epoch')\n",
        "  ax1.legend(['Train', 'Validation'])\n",
        "\n",
        "  # Plot accuracy\n",
        "  ax2.set_title('Accuracy')\n",
        "  ax2.plot(history.history['accuracy'],  label = 'train')\n",
        "  ax2.plot(history.history['val_accuracy'], label = 'test')\n",
        "  ax2.set_ylabel('Accuracy')\n",
        "  ax2.set_ylim([0, 1])\n",
        "  ax2.set_xlabel('Epoch')\n",
        "  ax2.legend(['Train', 'Validation'])\n",
        "\n",
        "  plt.show()\n",
        "\n",
        "plot_history(results)"
      ]
    },
    {
      "cell_type": "code",
      "execution_count": null,
      "metadata": {
        "id": "Ch1Y7Rjya-cW"
      },
      "outputs": [],
      "source": [
        "model.evaluate(test_ds, return_dict=True)"
      ]
    },
    {
      "cell_type": "code",
      "execution_count": null,
      "metadata": {
        "id": "GYQjwsTtbBSQ"
      },
      "outputs": [],
      "source": [
        "def get_actual_predicted_labels(dataset):\n",
        "  \"\"\"\n",
        "    Create a list of actual ground truth values and the predictions from the model.\n",
        "\n",
        "    Args:\n",
        "      dataset: An iterable data structure, such as a TensorFlow Dataset, with features and labels.\n",
        "\n",
        "    Return:\n",
        "      Ground truth and predicted values for a particular dataset.\n",
        "  \"\"\"\n",
        "  actual = [labels for _, labels in dataset.unbatch()]\n",
        "  predicted = model.predict(dataset)\n",
        "\n",
        "  actual = tf.stack(actual, axis=0)\n",
        "  predicted = tf.concat(predicted, axis=0)\n",
        "  #predicted = tf.argmax(predicted, axis=1)\n",
        "\n",
        "  return actual, predicted"
      ]
    },
    {
      "cell_type": "code",
      "execution_count": null,
      "metadata": {
        "id": "5oshuJdxbDiC"
      },
      "outputs": [],
      "source": [
        "import tensorflow as tf\n",
        "import seaborn as sns\n",
        "import matplotlib.pyplot as plt\n",
        "def plot_confusion_matrix(actual, predicted, labels, ds_type):\n",
        "  cm = tf.math.confusion_matrix(actual, predicted)\n",
        "  ax = sns.heatmap(cm, annot=True, fmt='g')\n",
        "  sns.set(rc={'figure.figsize':(12, 12)})\n",
        "  sns.set(font_scale=1.4)\n",
        "  ax.set_title('Confusion matrix of action recognition for ' + ds_type)\n",
        "  ax.set_xlabel('Predicted Action')\n",
        "  ax.set_ylabel('Actual Action')\n",
        "  plt.xticks(rotation=90)\n",
        "  plt.yticks(rotation=0)\n",
        "  ax.xaxis.set_ticklabels(labels)\n",
        "  ax.yaxis.set_ticklabels(labels)\n",
        "  plt.show()\n",
        "plot_confusion_matrix(actual, predicted, labels, 'test')"
      ]
    },
    {
      "cell_type": "code",
      "source": [
        "fg = FrameGenerator(pathlib.Path(\"/content/drive/MyDrive/KLTN2023/DataKLTN2023/data_video/test_final\"), n_frames, training=True)\n",
        "labels = list(fg.class_ids_for_name.keys())\n",
        "actual, predicted = get_actual_predicted_labels(test_ds)\n",
        "predicted"
      ],
      "metadata": {
        "id": "s7A051N2zo4y"
      },
      "execution_count": null,
      "outputs": []
    },
    {
      "cell_type": "code",
      "source": [
        "confusion_matrix = np.array([[9, 1, 0, 0, 0],\n",
        "                             [0, 16, 3, 2, 1],\n",
        "                             [0, 1, 12, 0, 0],\n",
        "                             [2, 1, 0, 4, 0],\n",
        "                             [3, 3, 2, 1, 17]])"
      ],
      "metadata": {
        "id": "e1JQNP630v25"
      },
      "execution_count": null,
      "outputs": []
    },
    {
      "cell_type": "code",
      "source": [
        "predicted"
      ],
      "metadata": {
        "id": "CCapf6Mp1sir"
      },
      "execution_count": null,
      "outputs": []
    },
    {
      "cell_type": "code",
      "source": [
        "labels"
      ],
      "metadata": {
        "id": "aAqmlhS41uNs"
      },
      "execution_count": null,
      "outputs": []
    },
    {
      "cell_type": "code",
      "source": [
        "def calculate_classification_metrics(y_actual, y_pred, labels):\n",
        "  \"\"\"\n",
        "    Calculate the precision and recall of a classification model using the ground truth and\n",
        "    predicted values.\n",
        "\n",
        "    Args:\n",
        "      y_actual: Ground truth labels.\n",
        "      y_pred: Predicted labels.\n",
        "      labels: List of classification labels.\n",
        "\n",
        "    Return:\n",
        "      Precision and recall measures.\n",
        "  \"\"\"\n",
        "  cm = tf.math.confusion_matrix(y_actual, y_pred)\n",
        "  tp = np.diag(cm) # Diagonal represents true positives\n",
        "  precision = dict()\n",
        "  recall = dict()\n",
        "  for i in range(len(labels)):\n",
        "    col = cm[:, i]\n",
        "    fp = np.sum(col) - tp[i] # Sum of column minus true positive is false negative\n",
        "\n",
        "    row = cm[i, :]\n",
        "    fn = np.sum(row) - tp[i] # Sum of row minus true positive, is false negative\n",
        "\n",
        "    precision[labels[i]] = tp[i] / (tp[i] + fp) # Precision\n",
        "\n",
        "    recall[labels[i]] = tp[i] / (tp[i] + fn) # Recall\n",
        "\n",
        "  return precision, recall\n",
        "\n",
        "precision, recall = calculate_classification_metrics(actual, predicted, labels) # Test dataset"
      ],
      "metadata": {
        "id": "WJwUXA7d1wDp"
      },
      "execution_count": null,
      "outputs": []
    },
    {
      "cell_type": "code",
      "source": [
        "precision, recall = calculate_classification_metrics(actual, predicted, labels) # Test dataset\n",
        "# Calculate Macro Precision\n",
        "macro_precision = sum(precision.values()) / len(precision)\n",
        "\n",
        "# Calculate Macro Recall\n",
        "macro_recall = sum(recall.values()) / len(recall)\n",
        "\n",
        "# Calculate Macro F1-score\n",
        "macro_f1_score = (2 * macro_precision * macro_recall) / (macro_precision + macro_recall)\n",
        "\n",
        "print(\"Macro Precision:\", macro_precision)\n",
        "print(\"Macro Recall:\", macro_recall)\n",
        "print(\"Macro F1-score:\", macro_f1_score)"
      ],
      "metadata": {
        "id": "_xuxYBNb4h_H"
      },
      "execution_count": null,
      "outputs": []
    },
    {
      "cell_type": "code",
      "source": [
        "print(precision)\n",
        "print(recall)"
      ],
      "metadata": {
        "id": "O4BQEe0S4jKz"
      },
      "execution_count": null,
      "outputs": []
    },
    {
      "cell_type": "code",
      "source": [],
      "metadata": {
        "id": "ykyl2skZ5gQG"
      },
      "execution_count": null,
      "outputs": []
    }
  ],
  "metadata": {
    "colab": {
      "provenance": [],
      "gpuType": "T4",
      "machine_shape": "hm"
    },
    "kernelspec": {
      "display_name": "Python 3",
      "name": "python3"
    },
    "language_info": {
      "name": "python"
    },
    "accelerator": "GPU"
  },
  "nbformat": 4,
  "nbformat_minor": 0
}